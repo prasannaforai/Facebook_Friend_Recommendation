{
 "cells": [
  {
   "cell_type": "markdown",
   "metadata": {},
   "source": [
    "<p style=\"color:red;font-size:32px;text-align:center\"> <b>Social Network Graph Link Prediction  : Part 2</b> </p>"
   ]
  },
  {
   "cell_type": "code",
   "execution_count": 1,
   "metadata": {},
   "outputs": [],
   "source": [
    "import warnings\n",
    "warnings.filterwarnings('ignore')\n",
    "\n",
    "import os\n",
    "import numpy as np\n",
    "import pandas as pd\n",
    "from pandas import HDFStore\n",
    "import math\n",
    "import matplotlib.pyplot as plt\n",
    "import networkx as nx\n",
    "import pickle\n",
    "import gc\n",
    "from scipy.sparse.linalg import svds as sparse_svd"
   ]
  },
  {
   "cell_type": "markdown",
   "metadata": {},
   "source": [
    "# 5. Featurizing the graph_data\n",
    "\n",
    "* Now that we have the graph data with let's build peform  feature engineering and build some features which might be useful in prediction.\n",
    "* We'll use the train_pos_graph as it's the only graph in train which has valid edges.\n",
    "* we'll use the same train_pos_graph for building features on test data."
   ]
  },
  {
   "cell_type": "markdown",
   "metadata": {},
   "source": [
    "__LOADING THE TRAIN_GRAPH WITH VALID EDGES/LINKS(1)__"
   ]
  },
  {
   "cell_type": "code",
   "execution_count": 2,
   "metadata": {},
   "outputs": [
    {
     "name": "stdout",
     "output_type": "stream",
     "text": [
      "train_graph with edges/links\n",
      "Name: \n",
      "Type: DiGraph\n",
      "Number of nodes: 1780722\n",
      "Number of edges: 7550015\n",
      "Average in degree:   4.2399\n",
      "Average out degree:   4.2399\n"
     ]
    }
   ],
   "source": [
    "train_pos_graph_file = 'processed/after_eda/train_pos.csv'\n",
    "train_pos_graph = nx.read_edgelist(train_pos_graph_file, delimiter=',', create_using=nx.DiGraph(), nodetype=int)\n",
    "print(\"train_graph with edges/links\")\n",
    "print(nx.info(train_pos_graph))"
   ]
  },
  {
   "cell_type": "markdown",
   "metadata": {},
   "source": [
    "## 5.1 Similarity Measures\n",
    "\n",
    "* If we can somehow measure the __degree of proximity between two users__, we can use that measure to predict an edge exists between two nodes.\n",
    "    \n",
    "<img src='https://introprogramming.info/wp-content/uploads/2013/07/clip_image026_thumb.png'>\n",
    "    \n",
    "* __<font color='red'> NOTE : Graph Theory Terminology </font>__\n",
    "    - __followers --> <font color='green'> predecessors : nodes directed towards a node </font>__\n",
    "    - __followees  --> <font color='green'> successors : nodes directed from node </font>__\n",
    "    - __{19, 1, 7} are the predecessors of {21}__\n",
    "    - __{31, 14} are the successors of {21}__\n",
    "       \n",
    "> * Pic Credits : https://introprogramming.info/tag/graph-implementation/"
   ]
  },
  {
   "cell_type": "markdown",
   "metadata": {},
   "source": [
    "### 5.1.1 Jaccard Index\n",
    "\n",
    "* In short, __Jaccard Index__$(J)$ measures the degree of similarity between user_1 and user_2 given that user_1 and user_2 have their features in form of sets.<br>\n",
    "$$ J = \\frac{|user_1 \\cap user_2|}{|user_1 \\cup user_2|} $$\n",
    "\n",
    "* Larger value of $(J)$ indicates a higher chance of user_1 and user_2 being connected/having an edge.\n",
    "\n",
    "* The Jaccard index$(J)$ can be measured for both followers and followees of a user."
   ]
  },
  {
   "cell_type": "code",
   "execution_count": 3,
   "metadata": {},
   "outputs": [],
   "source": [
    "def jaccard_index_for_followees(a, b, graph=train_pos_graph):\n",
    "    \n",
    "    try:\n",
    "        x, y = set(graph.successors(a)), set(graph.successors(b))\n",
    "        \n",
    "        if len(x) == 0 or len(y) == 0 or len(x & y) == 0:\n",
    "            return 0\n",
    "        else:\n",
    "            return round((len(x & y) / len(x | y)), 4)\n",
    "    except:\n",
    "        return 0\n",
    "    \n",
    "    \n",
    "def jaccard_index_for_followers(a, b, graph=train_pos_graph):\n",
    "    \n",
    "    try:\n",
    "        x, y = set(graph.predecessors(a)), set(graph.predecessors(b))\n",
    "        \n",
    "        if len(x) == 0 or len(y) == 0 or len(x & y) == 0:\n",
    "            return 0\n",
    "        else:\n",
    "            return round((len(x & y) / len(x | y)), 4)\n",
    "    except:\n",
    "        return 0"
   ]
  },
  {
   "cell_type": "code",
   "execution_count": 4,
   "metadata": {},
   "outputs": [
    {
     "name": "stdout",
     "output_type": "stream",
     "text": [
      "Jaccard Index for followees between user_1 and user_690569 : 0.1053\n",
      "Jaccard Index for followers between user_1 and user_690569 : 0.0833\n"
     ]
    }
   ],
   "source": [
    "u1, u2 = 1, 690569\n",
    "print(f\"Jaccard Index for followees between user_{u1} and user_{u2} : {jaccard_index_for_followees(u1, u2)}\")\n",
    "print(f\"Jaccard Index for followers between user_{u1} and user_{u2} : {jaccard_index_for_followers(u1, u2)}\")"
   ]
  },
  {
   "cell_type": "code",
   "execution_count": 5,
   "metadata": {},
   "outputs": [
    {
     "name": "stdout",
     "output_type": "stream",
     "text": [
      "Jaccard Index for followees between user_1545648 and user_215440 : 0\n",
      "Jaccard Index for followers between user_1545648 and user_215440 : 0\n"
     ]
    }
   ],
   "source": [
    "u1, u2 = 1545648, 215440\n",
    "print(f\"Jaccard Index for followees between user_{u1} and user_{u2} : {jaccard_index_for_followees(u1, u2)}\")\n",
    "print(f\"Jaccard Index for followers between user_{u1} and user_{u2} : {jaccard_index_for_followers(u1, u2)}\")"
   ]
  },
  {
   "cell_type": "markdown",
   "metadata": {},
   "source": [
    "### 5.1.2 Cosine Similarity between sets (Otsuka-Ochiai coefficient)\n",
    "\n",
    "* This is an other way to measure similarity between two sets of user_1 and user_2 respectively.\n",
    "<br> $$ C = \\frac{|user_1 \\cap user_2|}{\\sqrt{|user_1| \\cdot |user_2|}} $$\n",
    "\n",
    "* Cosine Similarity$(C)$ is high if the sets of u1 and u2 have high overlap.\n"
   ]
  },
  {
   "cell_type": "code",
   "execution_count": 6,
   "metadata": {},
   "outputs": [],
   "source": [
    "def cosine_sim_for_followees(a, b, graph=train_pos_graph):\n",
    "    \n",
    "    try:\n",
    "        x, y = set(graph.successors(a)), set(graph.successors(b))\n",
    "        \n",
    "        if len(x) == 0 or len(y) == 0 or len(x & y) == 0:\n",
    "            return 0\n",
    "        else:\n",
    "            return round((len(x & y) / math.sqrt(len(x)* len(y))), 4)\n",
    "    except:\n",
    "        return 0\n",
    "    \n",
    "    \n",
    "def cosine_sim_for_followers(a, b, graph=train_pos_graph):\n",
    "    \n",
    "    try:\n",
    "        x, y = set(graph.predecessors(a)), set(graph.predecessors(b))\n",
    "        \n",
    "        if len(x) == 0 or len(y) == 0 or len(x & y) == 0:\n",
    "            return 0\n",
    "        else:\n",
    "            return round((len(x & y) / math.sqrt(len(x)* len(y))), 4)\n",
    "    except:\n",
    "        return 0"
   ]
  },
  {
   "cell_type": "code",
   "execution_count": 7,
   "metadata": {},
   "outputs": [
    {
     "name": "stdout",
     "output_type": "stream",
     "text": [
      "Cosine Sim for followees between user_1 and user_690569 : 0.3244\n",
      "Cosine Sim for followers between user_1 and user_690569 : 0.2408\n"
     ]
    }
   ],
   "source": [
    "u1, u2 = 1, 690569\n",
    "print(f\"Cosine Sim for followees between user_{u1} and user_{u2} : {cosine_sim_for_followees(u1, u2)}\")\n",
    "print(f\"Cosine Sim for followers between user_{u1} and user_{u2} : {cosine_sim_for_followers(u1, u2)}\")"
   ]
  },
  {
   "cell_type": "code",
   "execution_count": 8,
   "metadata": {},
   "outputs": [
    {
     "name": "stdout",
     "output_type": "stream",
     "text": [
      "Cosine Sim for followees between user_1545648 and user_215440 : 0\n",
      "Cosine Sim for followers between user_1545648 and user_215440 : 0\n"
     ]
    }
   ],
   "source": [
    "u1, u2 = 1545648, 215440\n",
    "print(f\"Cosine Sim for followees between user_{u1} and user_{u2} : {cosine_sim_for_followees(u1, u2)}\")\n",
    "print(f\"Cosine Sim for followers between user_{u1} and user_{u2} : {cosine_sim_for_followers(u1, u2)}\")"
   ]
  },
  {
   "cell_type": "markdown",
   "metadata": {},
   "source": [
    "## 5.2 Rank Measures\n",
    "\n",
    "* Given a user, he/she would've have any number of followers/ followees.\n",
    "\n",
    "* Imagine a user_imp having very large number of followers then that user_imp might have some signifance,<br>\n",
    "the probability that any random guy on the internet follows user_imp will be very high.\n",
    "\n",
    "* If any user_j is followed by user_imp then the probability that a random guy follows user_j will also be high.\n",
    "\n",
    "* We want to capture the significance/importance of each user/node. Page rank algorithm is way to achieve this."
   ]
  },
  {
   "cell_type": "markdown",
   "metadata": {},
   "source": [
    "### 5.2.1 Page Rank\n",
    "\n",
    "* Given a directed graph, the Page Rank algorithm returns a score for each node in the graph<br>\n",
    "which represents the importance of that node.\n",
    "\n",
    "* The key point is if a node has many incoming directed edges, then it must be an important one.\n",
    "\n",
    "\n",
    "<img src='https://i.imgur.com/cPXf8Mv.jpg'>\n",
    "\n",
    "* Page_C has higher score than Page_E, even though it has more links than Page_C, the link from Page_B which itself has a higher score is directed towards Page_C increases the score of Page_C.\n",
    "\n",
    "* The idea is a web surfer starting on a random page has 85% likelihood of choosing a random link from that page and 15% likelihood of jumping to a page chosen at random, then  that probability that he will end up on Page_B is 0.384(38.4%).\n",
    "\n",
    "* The 15% likelihood of jumping to an arbitrary page corresponds to a damping factor of 85%. Without damping, all web surfers would eventually end up on Pages A, B, or C, and all other pages would have PageRank zero. In the presence of damping, Page A effectively links to all pages in the web, even though it has no outgoing links of its own.</b>\n",
    "\n",
    "* [NetwrokX Page Rank](https://networkx.github.io/documentation/networkx-1.10/reference/generated/networkx.algorithms.link_analysis.pagerank_alg.pagerank.html)\n",
    "\n",
    "> * Pic Credits : [Wiki](https://en.wikipedia.org/wiki/PageRank)"
   ]
  },
  {
   "cell_type": "code",
   "execution_count": 9,
   "metadata": {},
   "outputs": [
    {
     "name": "stdout",
     "output_type": "stream",
     "text": [
      "Loaded file from : processed/features/page_rank.pkl\n"
     ]
    }
   ],
   "source": [
    "file_path = 'processed/features/page_rank.pkl'\n",
    "\n",
    "if not os.path.exists(file_path):\n",
    "    page_rank = nx.pagerank(G=train_pos_graph, alpha=0.85)\n",
    "    \n",
    "    with open(file_path, 'wb') as f:\n",
    "        pickle.dump(page_rank, f)\n",
    "    print(f'Saved file at : {file_path}')\n",
    "        \n",
    "else:\n",
    "    with open(file_path, 'rb') as f:\n",
    "        page_rank = pickle.load(f)\n",
    "    print(f\"Loaded file from : {file_path}\")"
   ]
  },
  {
   "cell_type": "markdown",
   "metadata": {},
   "source": [
    "## 5.3 Graph based features"
   ]
  },
  {
   "cell_type": "markdown",
   "metadata": {},
   "source": [
    "### 5.3.1 Shortest Path\n",
    "\n",
    "* If the length of the shortest_path between any user_i and user_j is small, then there is a higher chance of user_i and user_j having an edge.\n",
    "\n",
    "* If user_i and user_j have an edge, then we'll remove that edge and compute the shortest path length.\n",
    "\n",
    "* If user_i and user_j have no path between them, the shortest path length is -1\n",
    "\n",
    "* There exists a higher chance of user_1 and user_3 having an edge if\n",
    "    - user_1 ---> user_2 ---> user_3"
   ]
  },
  {
   "cell_type": "code",
   "execution_count": 10,
   "metadata": {},
   "outputs": [],
   "source": [
    "def compute_shortest_path_len(a, b, graph=train_pos_graph):\n",
    "    \n",
    "    #we'll try to compute the spl(a, b) if a has path to b else return -1\n",
    "    try:\n",
    "        #remove the edge if a, b have an edge\n",
    "        if graph.has_edge(a, b):\n",
    "            graph.remove_edge(a, b)\n",
    "            path_len = nx.shortest_path_length(train_pos_graph, source=a, target=b)\n",
    "            graph.add_edge(a, b)\n",
    "        #compute the spl if exists\n",
    "        else:\n",
    "            path_len = nx.shortest_path_length(train_pos_graph, source=a, target=b)\n",
    "            \n",
    "        return path_len\n",
    "    \n",
    "    except:\n",
    "        return -1\n",
    "        "
   ]
  },
  {
   "cell_type": "code",
   "execution_count": 11,
   "metadata": {},
   "outputs": [
    {
     "name": "stdout",
     "output_type": "stream",
     "text": [
      "length of shortest_path between user_77697 and user_826021 : 10\n"
     ]
    }
   ],
   "source": [
    "u1, u2 = 77697, 826021\n",
    "print(f\"length of shortest_path between user_{u1} and user_{u2} : {compute_shortest_path_len(u1, u2)}\")"
   ]
  },
  {
   "cell_type": "code",
   "execution_count": 12,
   "metadata": {},
   "outputs": [
    {
     "name": "stdout",
     "output_type": "stream",
     "text": [
      "length of shortest_path between user_64454 and user_964841 : -1\n"
     ]
    }
   ],
   "source": [
    "u1, u2 = 64454, 964841\n",
    "print(f\"length of shortest_path between user_{u1} and user_{u2} : {compute_shortest_path_len(u1, u2)}\")"
   ]
  },
  {
   "cell_type": "markdown",
   "metadata": {},
   "source": [
    "* __<font color='green'> We'll generate a new feature using shortest_path_length. </font>__\n",
    "* __<font color='red'> spl_coef = 1/(shortest_path_length)  </red>__\n",
    "* __<font color='green'> This makes sense because node_pairs with less shortest_path_length should've higher weight.</font>__"
   ]
  },
  {
   "cell_type": "code",
   "execution_count": 13,
   "metadata": {},
   "outputs": [],
   "source": [
    "def spl_coef(a, b):\n",
    "    \n",
    "    try:\n",
    "        #add +1 to make path_length of  node_pairs with no path = 0\n",
    "        return round(1/(compute_shortest_path_len(a, b) + 1), 4)\n",
    "    except:\n",
    "        return 0"
   ]
  },
  {
   "cell_type": "code",
   "execution_count": 14,
   "metadata": {},
   "outputs": [
    {
     "name": "stdout",
     "output_type": "stream",
     "text": [
      "spl_coef between user_77697 and user_826021 : 0.0909\n"
     ]
    }
   ],
   "source": [
    "u1, u2 = 77697, 826021\n",
    "print(f\"spl_coef between user_{u1} and user_{u2} : {spl_coef(u1, u2)}\")"
   ]
  },
  {
   "cell_type": "code",
   "execution_count": 15,
   "metadata": {},
   "outputs": [
    {
     "name": "stdout",
     "output_type": "stream",
     "text": [
      "spl_coef between user_64454 and user_964841 : 0\n"
     ]
    }
   ],
   "source": [
    "u1, u2 = 64454, 964841\n",
    "print(f\"spl_coef between user_{u1} and user_{u2} : {spl_coef(u1, u2)}\")"
   ]
  },
  {
   "cell_type": "markdown",
   "metadata": {},
   "source": [
    "### 5.3.2 Connectivity of Nodes"
   ]
  },
  {
   "cell_type": "markdown",
   "metadata": {},
   "source": [
    "__STRONGLY CONNECTED COMPONENTS(SCC)__\n",
    "\n",
    "* In a Di-graph, Strongly Connected Component refers to a sub_graph which contains a subset of nodes from the graph<br>\n",
    "such that there exists a path from every node to every other node in the sub_graph.\n",
    "\n",
    "<img src='https://upload.wikimedia.org/wikipedia/commons/5/5c/Scc.png'>\n",
    "\n",
    "* The above graph in the above figure contains three SCC sub_graphs.\n",
    "\n",
    "* If user_i and user_j belong to the same SCC, they may have high degree of similarity,\n",
    "<br> the SCC can be interpreted as a group which is closely related like friends at work or at college or in a family.\n",
    "\n",
    "> * Pic Credits : [Wiki](https://en.wikipedia.org/wiki/Strongly_connected_component)"
   ]
  },
  {
   "cell_type": "markdown",
   "metadata": {},
   "source": []
  },
  {
   "cell_type": "code",
   "execution_count": 16,
   "metadata": {},
   "outputs": [
    {
     "name": "stdout",
     "output_type": "stream",
     "text": [
      "Number of SCCs in train_pos_graph          : 610523\n",
      "Size of largest SCC in the train_pos_graph : 1084279 nodes\n"
     ]
    }
   ],
   "source": [
    "scc = list(nx.strongly_connected_components(train_pos_graph))\n",
    "print(f\"Number of SCCs in train_pos_graph          : {len(scc)}\")\n",
    "print(f\"Size of largest SCC in the train_pos_graph : {len(max(scc, key=lambda x : len(x)))} nodes\")"
   ]
  },
  {
   "cell_type": "code",
   "execution_count": 17,
   "metadata": {},
   "outputs": [],
   "source": [
    "#dict mapping nodes to components index\n",
    "scc_dict = {node : idx for idx, components in enumerate(scc) for node in components}\n",
    "scc_dict['scc_list'] = scc"
   ]
  },
  {
   "cell_type": "code",
   "execution_count": 18,
   "metadata": {},
   "outputs": [],
   "source": [
    "def belong_to_same_scc(a, b, scc_dict=scc_dict, graph=train_pos_graph):\n",
    "    \n",
    "    try:\n",
    "        #if a --> and b --> a, then it's a SCC,\n",
    "        if graph.has_edge(a, b) and graph.has_edge(b, a):\n",
    "            return 1\n",
    "    \n",
    "        #if path exists from a to b, and (a, b) belong to the same scc\n",
    "        elif (compute_shortest_path_len(a, b) != -1) and \\\n",
    "              b in scc_dict.get('scc_list')[scc_dict.get(a)]:\n",
    "            return 1\n",
    "        \n",
    "        else:\n",
    "            return 0\n",
    "    except:\n",
    "        return 0"
   ]
  },
  {
   "cell_type": "code",
   "execution_count": 19,
   "metadata": {},
   "outputs": [
    {
     "name": "stdout",
     "output_type": "stream",
     "text": [
      "Does user_1723 and user_1725 belong to the same SCC ? : True\n"
     ]
    }
   ],
   "source": [
    "u1, u2 = 1723, 1725 #same scc\n",
    "print(f\"Does user_{u1} and user_{u2} belong to the same SCC ? : {bool(belong_to_same_scc(u1, u2))}\")"
   ]
  },
  {
   "cell_type": "code",
   "execution_count": 20,
   "metadata": {},
   "outputs": [
    {
     "name": "stdout",
     "output_type": "stream",
     "text": [
      "Does user_1723 and user_40 belong to the same SCC ? : False\n"
     ]
    }
   ],
   "source": [
    "u1, u2 = 1723, 40, #not from same scc\n",
    "print(f\"Does user_{u1} and user_{u2} belong to the same SCC ? : {bool(belong_to_same_scc(u1, u2))}\")"
   ]
  },
  {
   "cell_type": "code",
   "execution_count": 21,
   "metadata": {},
   "outputs": [
    {
     "name": "stdout",
     "output_type": "stream",
     "text": [
      "Does user_1 and user_189226 belong to the same SCC ? : True\n"
     ]
    }
   ],
   "source": [
    "#u1 and u189226 are not parallel edges, but belong to same scc\n",
    "u1, u2 = 1, 189226\n",
    "print(f\"Does user_{u1} and user_{u2} belong to the same SCC ? : {bool(belong_to_same_scc(u1, u2))}\")"
   ]
  },
  {
   "cell_type": "markdown",
   "metadata": {},
   "source": [
    "__WEEKLY CONNECTED COMPONENTS(SCC)__\n",
    "\n",
    "* In a Di-Graph with directions ignored, Weekly Connected Component refers to a sub_graph,\n",
    "<br>where there exists a path from every node to every other node in the sub_graph.\n",
    "\n",
    "* The entire graph in the above figure from  SCC section is a WCC is all the directions are ignored.\n",
    "<br> There always exists a path from any node to any other node.\n",
    "\n",
    "<img src='https://encrypted-tbn0.gstatic.com/images?q=tbn:ANd9GcSW8QbL3VMYirQBNIRQWxM-7RaFR_F70prymhBkU7IWIrTOd6TI'>\n",
    "\n",
    "* The WCC can be interpreted as a community where users have some similarity like culture, ethinicity, country etc,.\n",
    "\n",
    "> * Pic Credits : https://www.quora.com/What-are-strongly-and-weakly-connected-components"
   ]
  },
  {
   "cell_type": "code",
   "execution_count": 22,
   "metadata": {},
   "outputs": [
    {
     "name": "stdout",
     "output_type": "stream",
     "text": [
      "Number of WCCs in train_pos_graph          : 48602\n",
      "Size of largest WCC in the train_pos_graph : 1650233 nodes\n"
     ]
    }
   ],
   "source": [
    "wcc = list(nx.weakly_connected_components(train_pos_graph))\n",
    "print(f\"Number of WCCs in train_pos_graph          : {len(wcc)}\")\n",
    "print(f\"Size of largest WCC in the train_pos_graph : {len(max(wcc, key=lambda x : len(x)))} nodes\")"
   ]
  },
  {
   "cell_type": "code",
   "execution_count": 23,
   "metadata": {},
   "outputs": [],
   "source": [
    "#dict mapping nodes to scc_components index\n",
    "wcc_dict = {node : idx for idx, components in enumerate(wcc) for node in components}\n",
    "wcc_dict['wcc_list'] = wcc"
   ]
  },
  {
   "cell_type": "code",
   "execution_count": 24,
   "metadata": {},
   "outputs": [],
   "source": [
    "def belong_to_same_wcc(a, b, wcc_dict=wcc_dict, graph=train_pos_graph):\n",
    "    \n",
    "    try:\n",
    "        # if b --> a, then there is an edge return 1\n",
    "        if graph.has_edge(b, a):\n",
    "            return 1\n",
    "    \n",
    "        #return 1  path exists from a --> b after  and b --> a\n",
    "        #see compute_shortest_path_len() for more\n",
    "        elif compute_shortest_path_len(a, b, graph=train_pos_graph) != -1 and\\\n",
    "             compute_shortest_path_len(b, a, graph=train_pos_graph) != -1:\n",
    "            return 1\n",
    "    \n",
    "        if b in wcc_dict.get('wcc_list')[wcc_dict.get(a)]:\n",
    "            return 1\n",
    "        \n",
    "        else:\n",
    "            return 0\n",
    "    except:\n",
    "        return 0"
   ]
  },
  {
   "cell_type": "code",
   "execution_count": 25,
   "metadata": {},
   "outputs": [
    {
     "name": "stdout",
     "output_type": "stream",
     "text": [
      "user_1723 and user_1725 belong to the same WCC ? : True\n"
     ]
    }
   ],
   "source": [
    "u1, u2 = 1723, 1725 #belong to same wcc\n",
    "print(f\"user_{u1} and user_{u2} belong to the same WCC ? : {bool(belong_to_same_wcc(u1, u2))}\")"
   ]
  },
  {
   "cell_type": "code",
   "execution_count": 26,
   "metadata": {},
   "outputs": [
    {
     "name": "stdout",
     "output_type": "stream",
     "text": [
      "user_1723 and user_433241 belong to the same WCC ? : False\n"
     ]
    }
   ],
   "source": [
    "u1, u2 = 1723, 433241\n",
    "print(f\"user_{u1} and user_{u2} belong to the same WCC ? : {bool(belong_to_same_wcc(u1, u2))}\")"
   ]
  },
  {
   "cell_type": "code",
   "execution_count": 27,
   "metadata": {},
   "outputs": [
    {
     "name": "stdout",
     "output_type": "stream",
     "text": [
      "user_433241 and user_1228670 belong to the same WCC ? : True\n"
     ]
    }
   ],
   "source": [
    "#u 433241 and u1228670 aren't neighbors but they belong to same wcc\n",
    "u1, u2 = 433241, 1228670\n",
    "print(f\"user_{u1} and user_{u2} belong to the same WCC ? : {bool(belong_to_same_wcc(u1, u2))}\")"
   ]
  },
  {
   "cell_type": "code",
   "execution_count": 28,
   "metadata": {},
   "outputs": [
    {
     "name": "stdout",
     "output_type": "stream",
     "text": [
      "user_35 and user_1228670 belong to the same WCC ? : False\n"
     ]
    }
   ],
   "source": [
    "u1, u2 = 35, 1228670\n",
    "print(f\"user_{u1} and user_{u2} belong to the same WCC ? : {bool(belong_to_same_wcc(u1, u2))}\")"
   ]
  },
  {
   "cell_type": "markdown",
   "metadata": {},
   "source": [
    "### 5.3.3 Adamic/Adar Index\n",
    "\n",
    "* The concept of Adar Index $(A)$ is based on neighbours of user_i and user_j.\n",
    "$$A(u_i ,u_j)=\\sum_{u \\in N(u_i) \\cap N(u_j)}\\frac{1}{log(|N(u)|)}$$\n",
    "\n",
    "\n",
    "* Adar Index $(A)$ measure the degree of user_i and user_j being friends using their common neighbor's neighborhood.\n",
    "    - if $(A)$ is high, user_i and user_j are likely to be friends and vice versa.\n",
    "\n",
    "\n",
    "* Assume user_i and user_j are linked to some set of users, then the likelihood of user_i and user_j being friends is\n",
    "    - is small if  the neighborhood of overlap between the successors(user_i) and the successors(user_j) is large.\n",
    "    - is large if the neighborhood of overlap between the successors(user_i) and the successors(user_j) is small.\n",
    "\n",
    "\n",
    "* [Adar Index Wiki](https://en.wikipedia.org/wiki/Adamic/Adar_index)"
   ]
  },
  {
   "cell_type": "code",
   "execution_count": 29,
   "metadata": {},
   "outputs": [],
   "source": [
    "def adar_index(a, b, graph=train_pos_graph):\n",
    "    \n",
    "    try:\n",
    "        #find common set of users\n",
    "        common_users = set(train_pos_graph.successors(a)) & set(train_pos_graph.successors(b))\n",
    "        if len(common_users) != 0:\n",
    "            #small if common_users have large number of predecessors/followers, \n",
    "            #ie,. if the common set of users are celebrities, then they'll ve large number of followers.\n",
    "            return round(sum([1/math.log10(len(list(train_pos_graph.predecessors(c)))) for c in common_users]), 4)\n",
    "        else:\n",
    "            return 0\n",
    "    except:\n",
    "        return 0\n",
    "          "
   ]
  },
  {
   "cell_type": "code",
   "execution_count": 30,
   "metadata": {},
   "outputs": [
    {
     "name": "stdout",
     "output_type": "stream",
     "text": [
      "Adar Index of user_1 and user_690569 : 2.8303\n"
     ]
    }
   ],
   "source": [
    "u1, u2 = 1, 690569\n",
    "print(f\"Adar Index of user_{u1} and user_{u2} : {adar_index(u1, u2)}\")"
   ]
  },
  {
   "cell_type": "code",
   "execution_count": 31,
   "metadata": {},
   "outputs": [
    {
     "name": "stdout",
     "output_type": "stream",
     "text": [
      "Adar Index of user_657672 and user_1094233 : 16.8503\n"
     ]
    }
   ],
   "source": [
    "u1, u2 = 657672, 1094233 #these user have high follower count\n",
    "print(f\"Adar Index of user_{u1} and user_{u2} : {adar_index(u1, u2)}\")"
   ]
  },
  {
   "cell_type": "code",
   "execution_count": 32,
   "metadata": {},
   "outputs": [
    {
     "name": "stdout",
     "output_type": "stream",
     "text": [
      "Adar Index of user_1 and user_189226 : 0\n"
     ]
    }
   ],
   "source": [
    "u1, u2 = 1, 189226 \n",
    "print(f\"Adar Index of user_{u1} and user_{u2} : {adar_index(u1, u2)}\")"
   ]
  },
  {
   "cell_type": "markdown",
   "metadata": {},
   "source": [
    "### 5.3.4 follow_back/parallel_edge\n",
    "\n",
    "* We can see in EDA : parellel edges, that __6.4M of 9.46M edges__ are simply follow backs back and forth.\n",
    "\n",
    "\n",
    "* The chance of user_i being followed back by a user_j is high if user_i follows user_j.\n",
    "    - if user_i --> user_j, the chance of user_j --> user_i is high."
   ]
  },
  {
   "cell_type": "code",
   "execution_count": 33,
   "metadata": {},
   "outputs": [],
   "source": [
    "def follows_back(a, b, graph=train_pos_graph):\n",
    "    \n",
    "    try:\n",
    "        return int(graph.has_edge(b, a))\n",
    "    except:\n",
    "        return 0"
   ]
  },
  {
   "cell_type": "code",
   "execution_count": 34,
   "metadata": {},
   "outputs": [
    {
     "name": "stdout",
     "output_type": "stream",
     "text": [
      "user_690569 follows user_1 ? : True\n"
     ]
    }
   ],
   "source": [
    "u1, u2 = 1, 690569\n",
    "print(f\"user_{u2} follows user_{u1} ? : {bool(follows_back(u1, u2))}\")"
   ]
  },
  {
   "cell_type": "code",
   "execution_count": 35,
   "metadata": {},
   "outputs": [
    {
     "name": "stdout",
     "output_type": "stream",
     "text": [
      "user_1094233 follows user_657672 ? : True\n"
     ]
    }
   ],
   "source": [
    "u1, u2 = 657672, 1094233 \n",
    "print(f\"user_{u2} follows user_{u1} ? : {bool(follows_back(u1, u2))}\")"
   ]
  },
  {
   "cell_type": "code",
   "execution_count": 36,
   "metadata": {},
   "outputs": [
    {
     "name": "stdout",
     "output_type": "stream",
     "text": [
      "user_1 follows user_2 ? : False\n"
     ]
    }
   ],
   "source": [
    "u1, u2 = 2, 1\n",
    "print(f\"user_{u2} follows user_{u1} ? : {bool(follows_back(u1, u2))}\")"
   ]
  },
  {
   "cell_type": "markdown",
   "metadata": {},
   "source": [
    "### 5.3.5 Katz Centrality\n",
    "\n",
    "* Similar to Page Rank, measures the influence/importance of a node in the graph.\n",
    "\n",
    "* [Katz Centrality Wiki](https://en.wikipedia.org/wiki/Katz_centrality)\n",
    "\n",
    "* [Katz Centrality GeeksForGeeks](https://www.geeksforgeeks.org/katz-centrality-centrality-measure/)"
   ]
  },
  {
   "cell_type": "code",
   "execution_count": 37,
   "metadata": {},
   "outputs": [
    {
     "name": "stdout",
     "output_type": "stream",
     "text": [
      "Loading File from : processed/features/katz_cen.pkl\n"
     ]
    }
   ],
   "source": [
    "file_path = 'processed/features/katz_cen.pkl'\n",
    "\n",
    "if not os.path.exists(file_path):\n",
    "    katz = nx.katz.katz_centrality(train_pos_graph, alpha=0.005, beta=1)\n",
    "    with open(file_path, 'wb') as f:\n",
    "        pickle.dump(katz, f)\n",
    "    print(f'File saved at : {file_path}')\n",
    "else:\n",
    "    print(f'Loading File from : {file_path}')\n",
    "    with open(file_path, 'rb') as f:\n",
    "        katz = pickle.load(f)"
   ]
  },
  {
   "cell_type": "code",
   "execution_count": 38,
   "metadata": {},
   "outputs": [
    {
     "name": "stdout",
     "output_type": "stream",
     "text": [
      "min katz score  :  0.000731\n",
      "max katz score  :  0.003308\n",
      "mean katz score :  0.000748\n"
     ]
    }
   ],
   "source": [
    "print(f\"min katz score  : {katz[min(katz, key=katz.get)] : .6f}\")\n",
    "print(f\"max katz score  : {katz[max(katz, key=katz.get)] : .6f}\")\n",
    "print(f\"mean katz score : {sum(katz.values())/len(katz) : .6f}\")"
   ]
  },
  {
   "cell_type": "markdown",
   "metadata": {},
   "source": [
    "### 5.3.6 HITS Score\n",
    "\n",
    "* The HITS algorithm computes two numbers for a node. \n",
    "    - Authorities estimates the node value based on the incoming links. \n",
    "    - Hubs estimates the node value based on outgoing links.\n",
    "\n",
    "\n",
    "* [Hits Score Wiki](https://en.wikipedia.org/wiki/HITS_algorithm)"
   ]
  },
  {
   "cell_type": "code",
   "execution_count": 39,
   "metadata": {},
   "outputs": [
    {
     "name": "stdout",
     "output_type": "stream",
     "text": [
      "Loading File from : processed/features/hits_score.pkl\n"
     ]
    }
   ],
   "source": [
    "file_path = 'processed/features/hits_score.pkl'\n",
    "\n",
    "if not os.path.exists(file_path):\n",
    "    hits_score = nx.hits(train_pos_graph)\n",
    "    with open(file_path, 'wb') as f:\n",
    "        pickle.dump(hits_score, f)\n",
    "    print(f'File saved at : {file_path}')\n",
    "else:\n",
    "    print(f'Loading File from : {file_path}')\n",
    "    with open(file_path, 'rb') as f:\n",
    "        hits_score = pickle.load(f)"
   ]
  },
  {
   "cell_type": "code",
   "execution_count": 40,
   "metadata": {},
   "outputs": [
    {
     "name": "stdout",
     "output_type": "stream",
     "text": [
      "min hits score  :  0.000000\n",
      "max hits score  :  0.004869\n",
      "mean hits score :  0.000001\n"
     ]
    }
   ],
   "source": [
    "print(f\"min hits score  : {hits_score[0][min(hits_score[0], key=hits_score[0].get)] : .6f}\")\n",
    "print(f\"max hits score  : {hits_score[0][max(hits_score[0], key=hits_score[0].get)] : .6f}\")\n",
    "print(f\"mean hits score : {sum(hits_score[0].values())/len(hits_score[0]) : .6f}\")"
   ]
  },
  {
   "cell_type": "markdown",
   "metadata": {},
   "source": [
    "### 5.3.7 Preferential Attachment\n",
    "\n",
    "* The idea here is that a user with many friends tends to create more connections in future.\n",
    "\n",
    "* This feature may not make any sense, but this is due to the fact from finance saying the rich gets richer.\n",
    "\n",
    "* The richness of two users is obatined by multiplying their number of friends/followers.\n",
    "\n",
    "* $PT = |user_1| \\cdot |user_2|$"
   ]
  },
  {
   "cell_type": "code",
   "execution_count": 43,
   "metadata": {},
   "outputs": [],
   "source": [
    "def preferential_attachment(a, b, graph=train_pos_graph):\n",
    "    \n",
    "    try:\n",
    "        n_a = len(set(graph.neighbors(a)))\n",
    "        n_b = len(set(graph.neighbors(b)))\n",
    "        return n_a * n_b\n",
    "        \n",
    "    except:\n",
    "        return 0"
   ]
  },
  {
   "cell_type": "markdown",
   "metadata": {},
   "source": [
    "# 6. Featurization"
   ]
  },
  {
   "cell_type": "markdown",
   "metadata": {},
   "source": [
    "## 6.1 Sampling from train and test\n",
    "\n",
    "* Due to computational limitations, we'll sample a subset of datapoints for both train and test."
   ]
  },
  {
   "cell_type": "code",
   "execution_count": 48,
   "metadata": {},
   "outputs": [
    {
     "name": "stdout",
     "output_type": "stream",
     "text": [
      "Number of node_pairs in train : 15100030\n",
      "Number of node_pairs in test  : 3775008\n"
     ]
    }
   ],
   "source": [
    "train_path = 'processed/final/'\n",
    "test_path = 'processed/final/'\n",
    "\n",
    "with open(os.path.join(train_path, 'Ytrain.csv')) as f_train:\n",
    "    len_train = len(f_train.readlines())\n",
    "    print(f\"Number of node_pairs in train : {len_train}\")\n",
    "    \n",
    "with open(os.path.join(test_path, 'Ytest.csv')) as f_test:\n",
    "    len_test = len(f_test.readlines())\n",
    "    print(f\"Number of node_pairs in test  : {len_test}\")"
   ]
  },
  {
   "cell_type": "code",
   "execution_count": 49,
   "metadata": {},
   "outputs": [],
   "source": [
    "train_sample_size = 100_000\n",
    "test_sample_size = 50_000\n",
    "col_names = ['source', 'destination']\n",
    "\n",
    "#effiecient than df.sample(sample_size)\n",
    "skip_train_inidices = np.random.choice(np.arange(len_train), size=len_train - train_sample_size, replace=False)\n",
    "skip_test_inidices = np.random.choice(np.arange(len_test), size=len_test - test_sample_size, replace=False)\n",
    "\n",
    "skip_train_inidices.sort()\n",
    "skip_test_inidices.sort()"
   ]
  },
  {
   "cell_type": "markdown",
   "metadata": {},
   "source": [
    "__SAMPLING FROM TRAIN__"
   ]
  },
  {
   "cell_type": "code",
   "execution_count": 50,
   "metadata": {},
   "outputs": [
    {
     "data": {
      "text/html": [
       "<div>\n",
       "<style scoped>\n",
       "    .dataframe tbody tr th:only-of-type {\n",
       "        vertical-align: middle;\n",
       "    }\n",
       "\n",
       "    .dataframe tbody tr th {\n",
       "        vertical-align: top;\n",
       "    }\n",
       "\n",
       "    .dataframe thead th {\n",
       "        text-align: right;\n",
       "    }\n",
       "</style>\n",
       "<table border=\"1\" class=\"dataframe\">\n",
       "  <thead>\n",
       "    <tr style=\"text-align: right;\">\n",
       "      <th></th>\n",
       "      <th>source</th>\n",
       "      <th>destination</th>\n",
       "      <th>edge_indicator</th>\n",
       "    </tr>\n",
       "  </thead>\n",
       "  <tbody>\n",
       "    <tr>\n",
       "      <th>10962</th>\n",
       "      <td>21242</td>\n",
       "      <td>335712</td>\n",
       "      <td>1</td>\n",
       "    </tr>\n",
       "    <tr>\n",
       "      <th>67417</th>\n",
       "      <td>1506177</td>\n",
       "      <td>1214763</td>\n",
       "      <td>0</td>\n",
       "    </tr>\n",
       "    <tr>\n",
       "      <th>89550</th>\n",
       "      <td>790393</td>\n",
       "      <td>1637176</td>\n",
       "      <td>0</td>\n",
       "    </tr>\n",
       "    <tr>\n",
       "      <th>92816</th>\n",
       "      <td>1525423</td>\n",
       "      <td>1395321</td>\n",
       "      <td>0</td>\n",
       "    </tr>\n",
       "    <tr>\n",
       "      <th>50447</th>\n",
       "      <td>750747</td>\n",
       "      <td>517082</td>\n",
       "      <td>0</td>\n",
       "    </tr>\n",
       "  </tbody>\n",
       "</table>\n",
       "</div>"
      ],
      "text/plain": [
       "        source  destination  edge_indicator\n",
       "10962    21242       335712               1\n",
       "67417  1506177      1214763               0\n",
       "89550   790393      1637176               0\n",
       "92816  1525423      1395321               0\n",
       "50447   750747       517082               0"
      ]
     },
     "execution_count": 50,
     "metadata": {},
     "output_type": "execute_result"
    }
   ],
   "source": [
    "train_df = pd.read_csv(os.path.join(train_path, 'Xtrain.csv'), skiprows=skip_train_inidices, names=col_names)\n",
    "train_df['edge_indicator'] = pd.read_csv(os.path.join(train_path, 'Ytrain.csv'), skiprows=skip_train_inidices, names=['edge_indicator'])\n",
    "train_df.sample(5)"
   ]
  },
  {
   "cell_type": "code",
   "execution_count": 51,
   "metadata": {},
   "outputs": [
    {
     "name": "stdout",
     "output_type": "stream",
     "text": [
      "shape of train_df            : (100000, 3)\n",
      "num of node_pairs with edges : 49840\n",
      "num of node_pairs with edges : 50160\n"
     ]
    }
   ],
   "source": [
    "print(f\"shape of train_df            : {train_df.shape}\")\n",
    "print(f\"num of node_pairs with edges : {(train_df.edge_indicator == 1).sum()}\")\n",
    "print(f\"num of node_pairs with edges : {(train_df.edge_indicator == 0).sum()}\")"
   ]
  },
  {
   "cell_type": "markdown",
   "metadata": {},
   "source": [
    "__SAMPLING FROM TEST__"
   ]
  },
  {
   "cell_type": "code",
   "execution_count": 52,
   "metadata": {},
   "outputs": [
    {
     "data": {
      "text/html": [
       "<div>\n",
       "<style scoped>\n",
       "    .dataframe tbody tr th:only-of-type {\n",
       "        vertical-align: middle;\n",
       "    }\n",
       "\n",
       "    .dataframe tbody tr th {\n",
       "        vertical-align: top;\n",
       "    }\n",
       "\n",
       "    .dataframe thead th {\n",
       "        text-align: right;\n",
       "    }\n",
       "</style>\n",
       "<table border=\"1\" class=\"dataframe\">\n",
       "  <thead>\n",
       "    <tr style=\"text-align: right;\">\n",
       "      <th></th>\n",
       "      <th>source</th>\n",
       "      <th>destination</th>\n",
       "      <th>edge_indicator</th>\n",
       "    </tr>\n",
       "  </thead>\n",
       "  <tbody>\n",
       "    <tr>\n",
       "      <th>15455</th>\n",
       "      <td>245864</td>\n",
       "      <td>383916</td>\n",
       "      <td>1</td>\n",
       "    </tr>\n",
       "    <tr>\n",
       "      <th>19248</th>\n",
       "      <td>405992</td>\n",
       "      <td>317798</td>\n",
       "      <td>1</td>\n",
       "    </tr>\n",
       "    <tr>\n",
       "      <th>5062</th>\n",
       "      <td>35807</td>\n",
       "      <td>1237806</td>\n",
       "      <td>1</td>\n",
       "    </tr>\n",
       "    <tr>\n",
       "      <th>32426</th>\n",
       "      <td>1797929</td>\n",
       "      <td>994643</td>\n",
       "      <td>0</td>\n",
       "    </tr>\n",
       "    <tr>\n",
       "      <th>4687</th>\n",
       "      <td>682440</td>\n",
       "      <td>1515360</td>\n",
       "      <td>1</td>\n",
       "    </tr>\n",
       "  </tbody>\n",
       "</table>\n",
       "</div>"
      ],
      "text/plain": [
       "        source  destination  edge_indicator\n",
       "15455   245864       383916               1\n",
       "19248   405992       317798               1\n",
       "5062     35807      1237806               1\n",
       "32426  1797929       994643               0\n",
       "4687    682440      1515360               1"
      ]
     },
     "execution_count": 52,
     "metadata": {},
     "output_type": "execute_result"
    }
   ],
   "source": [
    "test_df = pd.read_csv(os.path.join(test_path, 'Xtest.csv'), skiprows=skip_test_inidices, names=col_names)\n",
    "test_df['edge_indicator'] = pd.read_csv(os.path.join(test_path, 'Ytest.csv'), skiprows=skip_test_inidices, names=['edge_indicator'])\n",
    "test_df.sample(5)"
   ]
  },
  {
   "cell_type": "code",
   "execution_count": 53,
   "metadata": {},
   "outputs": [
    {
     "name": "stdout",
     "output_type": "stream",
     "text": [
      "shape of train_df            : (50000, 3)\n",
      "num of node_pairs with edges : 24984\n",
      "num of node_pairs with edges : 25016\n"
     ]
    }
   ],
   "source": [
    "print(f\"shape of train_df            : {test_df.shape}\")\n",
    "print(f\"num of node_pairs with edges : {(test_df.edge_indicator == 1).sum()}\")\n",
    "print(f\"num of node_pairs with edges : {(test_df.edge_indicator == 0).sum()}\")"
   ]
  },
  {
   "cell_type": "markdown",
   "metadata": {},
   "source": [
    "## 6.2 Adding set of features"
   ]
  },
  {
   "cell_type": "markdown",
   "metadata": {},
   "source": [
    "* __We will create  each of these 10 features for both train and test.__\n",
    "    - jaccard_followers\n",
    "    - jaccard_followees\n",
    "    - cosine_followers\n",
    "    - cosine_followees\n",
    "    - follows_back\n",
    "    - belong_to_same_scc\n",
    "    - belong_to_same_wcc\n",
    "    - adar_index\n",
    "    - prefer_attach\n",
    "    - spl_coef"
   ]
  },
  {
   "cell_type": "code",
   "execution_count": 56,
   "metadata": {},
   "outputs": [],
   "source": [
    "def build_data_matrix_stage1(df):\n",
    "\n",
    "    df['jaccard_followers'] = df.apply(lambda row : jaccard_index_for_followers(row['source'], row['destination']), axis=1)\n",
    "    df['jaccard_followees'] = df.apply(lambda row : jaccard_index_for_followees(row['source'], row['destination']), axis=1)\n",
    "    df['cosine_followers'] = df.apply(lambda row : cosine_sim_for_followers(row['source'], row['destination']), axis=1)\n",
    "    df['cosine_followees'] = df.apply(lambda row : cosine_sim_for_followees(row['source'], row['destination']), axis=1)\n",
    "    df['follows_back'] = df.apply(lambda row : follows_back(row['source'], row['destination']), axis=1)\n",
    "    df['same_scc'] = df.apply(lambda row : belong_to_same_scc(row['source'], row['destination']), axis=1)\n",
    "    df['same_wcc'] = df.apply(lambda row : belong_to_same_wcc(row['source'], row['destination']), axis=1)\n",
    "    df['adar_index'] = df.apply(lambda row : adar_index(row['source'], row['destination']), axis=1)\n",
    "    df['spl_coef'] = df.apply(lambda row : spl_coef(row['source'], row['destination']), axis=1)\n",
    "    df['prefer_attach'] = df.apply(lambda row : preferential_attachment(row['source'], row['destination']), axis=1)\n",
    "    \n",
    "    return df"
   ]
  },
  {
   "cell_type": "code",
   "execution_count": 57,
   "metadata": {},
   "outputs": [
    {
     "name": "stdout",
     "output_type": "stream",
     "text": [
      "Wall time: 7min 10s\n"
     ]
    }
   ],
   "source": [
    "%%time\n",
    "\n",
    "train_df = build_data_matrix_stage1(train_df)\n",
    "test_df = build_data_matrix_stage1(test_df)"
   ]
  },
  {
   "cell_type": "code",
   "execution_count": 58,
   "metadata": {},
   "outputs": [
    {
     "name": "stdout",
     "output_type": "stream",
     "text": [
      "Number of features after stage1 : 10\n"
     ]
    }
   ],
   "source": [
    "print(f\"Number of features after stage1 : {train_df.shape[1] - 3}\")"
   ]
  },
  {
   "cell_type": "code",
   "execution_count": 59,
   "metadata": {},
   "outputs": [
    {
     "data": {
      "text/html": [
       "<div>\n",
       "<style scoped>\n",
       "    .dataframe tbody tr th:only-of-type {\n",
       "        vertical-align: middle;\n",
       "    }\n",
       "\n",
       "    .dataframe tbody tr th {\n",
       "        vertical-align: top;\n",
       "    }\n",
       "\n",
       "    .dataframe thead th {\n",
       "        text-align: right;\n",
       "    }\n",
       "</style>\n",
       "<table border=\"1\" class=\"dataframe\">\n",
       "  <thead>\n",
       "    <tr style=\"text-align: right;\">\n",
       "      <th></th>\n",
       "      <th>source</th>\n",
       "      <th>destination</th>\n",
       "      <th>edge_indicator</th>\n",
       "      <th>jaccard_followers</th>\n",
       "      <th>jaccard_followees</th>\n",
       "      <th>cosine_followers</th>\n",
       "      <th>cosine_followees</th>\n",
       "      <th>follows_back</th>\n",
       "      <th>same_scc</th>\n",
       "      <th>same_wcc</th>\n",
       "      <th>adar_index</th>\n",
       "      <th>spl_coef</th>\n",
       "      <th>prefer_attach</th>\n",
       "    </tr>\n",
       "  </thead>\n",
       "  <tbody>\n",
       "    <tr>\n",
       "      <th>17539</th>\n",
       "      <td>1800078</td>\n",
       "      <td>1067820</td>\n",
       "      <td>1</td>\n",
       "      <td>0.2182</td>\n",
       "      <td>0.2449</td>\n",
       "      <td>0.3814</td>\n",
       "      <td>0.3961</td>\n",
       "      <td>1</td>\n",
       "      <td>1</td>\n",
       "      <td>1</td>\n",
       "      <td>10.5572</td>\n",
       "      <td>0.3333</td>\n",
       "      <td>918</td>\n",
       "    </tr>\n",
       "    <tr>\n",
       "      <th>44260</th>\n",
       "      <td>348622</td>\n",
       "      <td>887334</td>\n",
       "      <td>0</td>\n",
       "      <td>0.0000</td>\n",
       "      <td>0.0000</td>\n",
       "      <td>0.0000</td>\n",
       "      <td>0.0000</td>\n",
       "      <td>0</td>\n",
       "      <td>0</td>\n",
       "      <td>1</td>\n",
       "      <td>0.0000</td>\n",
       "      <td>0.0000</td>\n",
       "      <td>0</td>\n",
       "    </tr>\n",
       "    <tr>\n",
       "      <th>38481</th>\n",
       "      <td>1285137</td>\n",
       "      <td>329686</td>\n",
       "      <td>0</td>\n",
       "      <td>0.0000</td>\n",
       "      <td>0.0000</td>\n",
       "      <td>0.0000</td>\n",
       "      <td>0.0000</td>\n",
       "      <td>0</td>\n",
       "      <td>1</td>\n",
       "      <td>1</td>\n",
       "      <td>0.0000</td>\n",
       "      <td>0.1111</td>\n",
       "      <td>9</td>\n",
       "    </tr>\n",
       "    <tr>\n",
       "      <th>17763</th>\n",
       "      <td>1823666</td>\n",
       "      <td>1694208</td>\n",
       "      <td>1</td>\n",
       "      <td>0.0000</td>\n",
       "      <td>0.0000</td>\n",
       "      <td>0.0000</td>\n",
       "      <td>0.0000</td>\n",
       "      <td>0</td>\n",
       "      <td>1</td>\n",
       "      <td>1</td>\n",
       "      <td>0.0000</td>\n",
       "      <td>0.2500</td>\n",
       "      <td>12</td>\n",
       "    </tr>\n",
       "    <tr>\n",
       "      <th>31133</th>\n",
       "      <td>1647420</td>\n",
       "      <td>852350</td>\n",
       "      <td>0</td>\n",
       "      <td>0.0000</td>\n",
       "      <td>0.0000</td>\n",
       "      <td>0.0000</td>\n",
       "      <td>0.0000</td>\n",
       "      <td>0</td>\n",
       "      <td>0</td>\n",
       "      <td>1</td>\n",
       "      <td>0.0000</td>\n",
       "      <td>0.0000</td>\n",
       "      <td>0</td>\n",
       "    </tr>\n",
       "  </tbody>\n",
       "</table>\n",
       "</div>"
      ],
      "text/plain": [
       "        source  destination  edge_indicator  jaccard_followers  \\\n",
       "17539  1800078      1067820               1             0.2182   \n",
       "44260   348622       887334               0             0.0000   \n",
       "38481  1285137       329686               0             0.0000   \n",
       "17763  1823666      1694208               1             0.0000   \n",
       "31133  1647420       852350               0             0.0000   \n",
       "\n",
       "       jaccard_followees  cosine_followers  cosine_followees  follows_back  \\\n",
       "17539             0.2449            0.3814            0.3961             1   \n",
       "44260             0.0000            0.0000            0.0000             0   \n",
       "38481             0.0000            0.0000            0.0000             0   \n",
       "17763             0.0000            0.0000            0.0000             0   \n",
       "31133             0.0000            0.0000            0.0000             0   \n",
       "\n",
       "       same_scc  same_wcc  adar_index  spl_coef  prefer_attach  \n",
       "17539         1         1     10.5572    0.3333            918  \n",
       "44260         0         1      0.0000    0.0000              0  \n",
       "38481         1         1      0.0000    0.1111              9  \n",
       "17763         1         1      0.0000    0.2500             12  \n",
       "31133         0         1      0.0000    0.0000              0  "
      ]
     },
     "execution_count": 59,
     "metadata": {},
     "output_type": "execute_result"
    }
   ],
   "source": [
    "test_df.sample(5)"
   ]
  },
  {
   "cell_type": "markdown",
   "metadata": {},
   "source": [
    "__STAGE 2__\n",
    "\n",
    "* __Adding 6 new features__\n",
    "    - num_followers_source\n",
    "    - num_followees_source\n",
    "    - num_followers_dest\n",
    "    - num_followees_dest\n",
    "    - inter_followers\n",
    "    - inter_followees\n"
   ]
  },
  {
   "cell_type": "code",
   "execution_count": 61,
   "metadata": {},
   "outputs": [],
   "source": [
    "def build_data_matrix_stage2(df, graph=train_pos_graph):\n",
    "    \n",
    "    num_followers_source = []\n",
    "    num_followees_source = []\n",
    "    num_followers_dest = []\n",
    "    num_followees_dest = []\n",
    "    inter_followers = []\n",
    "    inter_followees = []\n",
    "    \n",
    "    for index, row in df.iterrows():\n",
    "        \n",
    "        try:\n",
    "            s1=set(graph.predecessors(row['source']))\n",
    "            s2=set(graph.successors(row['source']))\n",
    "        except:\n",
    "            s1 = set()\n",
    "            s2 = set()\n",
    "            \n",
    "        try:\n",
    "            d1=set(graph.predecessors(row['destination']))\n",
    "            d2=set(graph.successors(row['destination']))\n",
    "        except:\n",
    "            d1 = set()\n",
    "            d2 = set()\n",
    "            \n",
    "        num_followers_source.append(len(s1))\n",
    "        num_followees_source.append(len(s2))\n",
    "\n",
    "        num_followers_dest.append(len(d1))\n",
    "        num_followees_dest.append(len(d2))\n",
    "\n",
    "        inter_followers.append(len(s1 & d1))\n",
    "        inter_followees.append(len(s2 & d2))\n",
    "        \n",
    "    df['num_followers_source'] = num_followers_source\n",
    "    df['num_followers_dest'] = num_followers_dest\n",
    "    df['num_followees_source'] = num_followees_source\n",
    "    df['num_followees_dest'] = num_followees_dest\n",
    "    df['inter_followers'] = inter_followers\n",
    "    df['inter_followees'] = inter_followees\n",
    "    \n",
    "    return df"
   ]
  },
  {
   "cell_type": "code",
   "execution_count": 62,
   "metadata": {},
   "outputs": [
    {
     "name": "stdout",
     "output_type": "stream",
     "text": [
      "Wall time: 10.9 s\n"
     ]
    }
   ],
   "source": [
    "%%time\n",
    "\n",
    "train_df = build_data_matrix_stage2(train_df)\n",
    "test_df = build_data_matrix_stage2(test_df)"
   ]
  },
  {
   "cell_type": "code",
   "execution_count": 63,
   "metadata": {},
   "outputs": [
    {
     "name": "stdout",
     "output_type": "stream",
     "text": [
      "Number of features after stage2 : 16\n"
     ]
    }
   ],
   "source": [
    "print(f\"Number of features after stage2 : {train_df.shape[1] - 3}\")"
   ]
  },
  {
   "cell_type": "code",
   "execution_count": 64,
   "metadata": {},
   "outputs": [
    {
     "data": {
      "text/html": [
       "<div>\n",
       "<style scoped>\n",
       "    .dataframe tbody tr th:only-of-type {\n",
       "        vertical-align: middle;\n",
       "    }\n",
       "\n",
       "    .dataframe tbody tr th {\n",
       "        vertical-align: top;\n",
       "    }\n",
       "\n",
       "    .dataframe thead th {\n",
       "        text-align: right;\n",
       "    }\n",
       "</style>\n",
       "<table border=\"1\" class=\"dataframe\">\n",
       "  <thead>\n",
       "    <tr style=\"text-align: right;\">\n",
       "      <th></th>\n",
       "      <th>source</th>\n",
       "      <th>destination</th>\n",
       "      <th>edge_indicator</th>\n",
       "      <th>jaccard_followers</th>\n",
       "      <th>jaccard_followees</th>\n",
       "      <th>cosine_followers</th>\n",
       "      <th>cosine_followees</th>\n",
       "      <th>follows_back</th>\n",
       "      <th>same_scc</th>\n",
       "      <th>same_wcc</th>\n",
       "      <th>adar_index</th>\n",
       "      <th>spl_coef</th>\n",
       "      <th>prefer_attach</th>\n",
       "      <th>num_followers_source</th>\n",
       "      <th>num_followers_dest</th>\n",
       "      <th>num_followees_source</th>\n",
       "      <th>num_followees_dest</th>\n",
       "      <th>inter_followers</th>\n",
       "      <th>inter_followees</th>\n",
       "    </tr>\n",
       "  </thead>\n",
       "  <tbody>\n",
       "    <tr>\n",
       "      <th>26847</th>\n",
       "      <td>576747</td>\n",
       "      <td>704661</td>\n",
       "      <td>0</td>\n",
       "      <td>0.0</td>\n",
       "      <td>0.0000</td>\n",
       "      <td>0.0</td>\n",
       "      <td>0.000</td>\n",
       "      <td>0</td>\n",
       "      <td>0</td>\n",
       "      <td>1</td>\n",
       "      <td>0.0000</td>\n",
       "      <td>0.1000</td>\n",
       "      <td>1</td>\n",
       "      <td>0</td>\n",
       "      <td>1</td>\n",
       "      <td>1</td>\n",
       "      <td>1</td>\n",
       "      <td>0</td>\n",
       "      <td>0</td>\n",
       "    </tr>\n",
       "    <tr>\n",
       "      <th>30718</th>\n",
       "      <td>123637</td>\n",
       "      <td>1084081</td>\n",
       "      <td>0</td>\n",
       "      <td>0.0</td>\n",
       "      <td>0.0000</td>\n",
       "      <td>0.0</td>\n",
       "      <td>0.000</td>\n",
       "      <td>0</td>\n",
       "      <td>0</td>\n",
       "      <td>0</td>\n",
       "      <td>0.0000</td>\n",
       "      <td>0.0000</td>\n",
       "      <td>1</td>\n",
       "      <td>0</td>\n",
       "      <td>1</td>\n",
       "      <td>1</td>\n",
       "      <td>1</td>\n",
       "      <td>0</td>\n",
       "      <td>0</td>\n",
       "    </tr>\n",
       "    <tr>\n",
       "      <th>23352</th>\n",
       "      <td>1207155</td>\n",
       "      <td>216377</td>\n",
       "      <td>1</td>\n",
       "      <td>0.0</td>\n",
       "      <td>0.0000</td>\n",
       "      <td>0.0</td>\n",
       "      <td>0.000</td>\n",
       "      <td>0</td>\n",
       "      <td>1</td>\n",
       "      <td>1</td>\n",
       "      <td>0.0000</td>\n",
       "      <td>0.2000</td>\n",
       "      <td>588</td>\n",
       "      <td>48</td>\n",
       "      <td>3</td>\n",
       "      <td>196</td>\n",
       "      <td>3</td>\n",
       "      <td>0</td>\n",
       "      <td>0</td>\n",
       "    </tr>\n",
       "    <tr>\n",
       "      <th>5925</th>\n",
       "      <td>1714822</td>\n",
       "      <td>800837</td>\n",
       "      <td>1</td>\n",
       "      <td>0.0</td>\n",
       "      <td>0.2667</td>\n",
       "      <td>0.0</td>\n",
       "      <td>0.434</td>\n",
       "      <td>0</td>\n",
       "      <td>1</td>\n",
       "      <td>1</td>\n",
       "      <td>9.4023</td>\n",
       "      <td>0.3333</td>\n",
       "      <td>2124</td>\n",
       "      <td>22</td>\n",
       "      <td>158</td>\n",
       "      <td>59</td>\n",
       "      <td>36</td>\n",
       "      <td>0</td>\n",
       "      <td>20</td>\n",
       "    </tr>\n",
       "    <tr>\n",
       "      <th>36867</th>\n",
       "      <td>760362</td>\n",
       "      <td>1648060</td>\n",
       "      <td>0</td>\n",
       "      <td>0.0</td>\n",
       "      <td>0.0000</td>\n",
       "      <td>0.0</td>\n",
       "      <td>0.000</td>\n",
       "      <td>0</td>\n",
       "      <td>1</td>\n",
       "      <td>1</td>\n",
       "      <td>0.0000</td>\n",
       "      <td>0.1111</td>\n",
       "      <td>8</td>\n",
       "      <td>2</td>\n",
       "      <td>2</td>\n",
       "      <td>4</td>\n",
       "      <td>2</td>\n",
       "      <td>0</td>\n",
       "      <td>0</td>\n",
       "    </tr>\n",
       "  </tbody>\n",
       "</table>\n",
       "</div>"
      ],
      "text/plain": [
       "        source  destination  edge_indicator  jaccard_followers  \\\n",
       "26847   576747       704661               0                0.0   \n",
       "30718   123637      1084081               0                0.0   \n",
       "23352  1207155       216377               1                0.0   \n",
       "5925   1714822       800837               1                0.0   \n",
       "36867   760362      1648060               0                0.0   \n",
       "\n",
       "       jaccard_followees  cosine_followers  cosine_followees  follows_back  \\\n",
       "26847             0.0000               0.0             0.000             0   \n",
       "30718             0.0000               0.0             0.000             0   \n",
       "23352             0.0000               0.0             0.000             0   \n",
       "5925              0.2667               0.0             0.434             0   \n",
       "36867             0.0000               0.0             0.000             0   \n",
       "\n",
       "       same_scc  same_wcc  adar_index  spl_coef  prefer_attach  \\\n",
       "26847         0         1      0.0000    0.1000              1   \n",
       "30718         0         0      0.0000    0.0000              1   \n",
       "23352         1         1      0.0000    0.2000            588   \n",
       "5925          1         1      9.4023    0.3333           2124   \n",
       "36867         1         1      0.0000    0.1111              8   \n",
       "\n",
       "       num_followers_source  num_followers_dest  num_followees_source  \\\n",
       "26847                     0                   1                     1   \n",
       "30718                     0                   1                     1   \n",
       "23352                    48                   3                   196   \n",
       "5925                     22                 158                    59   \n",
       "36867                     2                   2                     4   \n",
       "\n",
       "       num_followees_dest  inter_followers  inter_followees  \n",
       "26847                   1                0                0  \n",
       "30718                   1                0                0  \n",
       "23352                   3                0                0  \n",
       "5925                   36                0               20  \n",
       "36867                   2                0                0  "
      ]
     },
     "execution_count": 64,
     "metadata": {},
     "output_type": "execute_result"
    }
   ],
   "source": [
    "test_df.sample(5)"
   ]
  },
  {
   "cell_type": "markdown",
   "metadata": {},
   "source": [
    "## 6.3 Adding new set of features\n",
    "\n",
    "* __We'll create each of these 14 features below for both train and test.__\n",
    "\n",
    "\n",
    "* Weight Features\n",
    "    - weight of incoming edges\n",
    "    - weight of outgoing edges\n",
    "    - weight of incoming edges + weight of outgoing edges\n",
    "    - weight of incoming edges * weight of outgoing edges\n",
    "    - 2*weight of incoming edges + weight of outgoing edges\n",
    "    - weight of incoming edges + 2*weight of outgoing edges\n",
    "    \n",
    "    \n",
    "* Page_Ranking of source\n",
    "* Page_Ranking of destination\n",
    "* Katz score of source\n",
    "* Katz score of destination\n",
    "* Hubs score of source\n",
    "* Hubs score of destination\n",
    "* Authorities score of source\n",
    "* Authorities score of destination"
   ]
  },
  {
   "cell_type": "markdown",
   "metadata": {},
   "source": [
    "__WEIGHT FEATURES__\n",
    "\n",
    "* Inorder to determinine the similarity of nodes, an edge weight value is calculated between the nodes.\n",
    "<br>Edge weight decreases as the neighbor count increases.\n",
    "\n",
    "* Intuitively, Consider 1M people following a celebrity on a social network then the chances\n",
    "<br> of most them meeting each other or the celebrity is small.\n",
    "\n",
    "* On the other hand, if a user has 30 contacts in his/her social network, the chances are higher that many of them know each other.\n",
    "\n",
    "* $$\\begin{equation} W = \\frac{1}{\\sqrt{1+|X|}} \\end{equation} $$\n",
    "<br>$\\hspace{11cm}| X | = \\text{length of the node}$\n",
    "\n",
    "> * Credits : Graph-based Features for Supervised Link Prediction , William Cukierski, Benjamin Hamner, Bo Yang"
   ]
  },
  {
   "cell_type": "code",
   "execution_count": 65,
   "metadata": {},
   "outputs": [],
   "source": [
    "weights_incoming = {}\n",
    "weights_outgoing = {}\n",
    "\n",
    "for node in train_pos_graph.nodes():\n",
    "    weights_incoming[node] = 1 / math.sqrt(1 + len(set(train_pos_graph.predecessors(node))))\n",
    "    weights_outgoing[node] = 1 / math.sqrt(1 + len(set(train_pos_graph.successors(node))))\n",
    "    \n",
    "#mean values for imputation\n",
    "mean_weight_in = np.mean(list(weights_incoming.values()))\n",
    "mean_weight_out = np.mean(list(weights_outgoing.values()))"
   ]
  },
  {
   "cell_type": "markdown",
   "metadata": {},
   "source": [
    "__STAGE 3__"
   ]
  },
  {
   "cell_type": "code",
   "execution_count": 66,
   "metadata": {},
   "outputs": [],
   "source": [
    "def build_data_matrix_stage3(df,\\\n",
    "                             weights_in=weights_incoming,\\\n",
    "                             weights_out=weights_outgoing,\\\n",
    "                             page_rank_dict=page_rank,\\\n",
    "                             katz_dict=katz,\\\n",
    "                             hits_dicts_list=hits_score):\n",
    "    \n",
    "    mean_w_in = np.mean(list(weights_incoming.values()))\n",
    "    mean_w_out = np.mean(list(weights_outgoing.values()))\n",
    "    \n",
    "    df['weight_in'] = df.destination.apply(lambda x : weights_in.get(x, mean_w_in))\n",
    "    df['weight_out'] = df.source.apply(lambda x : weights_out.get(x, mean_w_out))\n",
    "    \n",
    "    df['weight_f1'] = df.weight_in * df.weight_out\n",
    "    df['weight_f2'] = df.weight_in + df.weight_out\n",
    "    df['weight_f3'] = 2*df.weight_in + df.weight_out\n",
    "    df['weight_f4'] = df.weight_in + 2*df.weight_out\n",
    "    \n",
    "    mean_page_rank = np.mean(list(page_rank_dict.values()))\n",
    "    df['page_rank_source'] = df.source.apply(lambda x : page_rank_dict.get(x, mean_page_rank))\n",
    "    df['page_rank_dest'] = df.destination.apply(lambda x : page_rank_dict.get(x, mean_page_rank))\n",
    "    \n",
    "    mean_katz = np.mean(list(katz_dict.values()))\n",
    "    df['katz_source'] = df.source.apply(lambda x : katz_dict.get(x, mean_katz))\n",
    "    df['katz_dest'] = df.destination.apply(lambda x : katz_dict.get(x, mean_katz))\n",
    "    \n",
    "    df['hub_source'] = df.source.apply(lambda x : hits_dicts_list[0].get(x, 0))\n",
    "    df['hub_dest'] = df.destination.apply(lambda x : hits_dicts_list[0].get(x, 0))\n",
    "    \n",
    "    df['auth_source'] = df.source.apply(lambda x : hits_dicts_list[1].get(x, 0))\n",
    "    df['auth_dest'] = df.destination.apply(lambda x : hits_dicts_list[1].get(x, 0))\n",
    "    \n",
    "    return df"
   ]
  },
  {
   "cell_type": "code",
   "execution_count": 67,
   "metadata": {},
   "outputs": [
    {
     "name": "stdout",
     "output_type": "stream",
     "text": [
      "Wall time: 2.54 s\n"
     ]
    }
   ],
   "source": [
    "%%time\n",
    "\n",
    "train_df = build_data_matrix_stage3(train_df)\n",
    "test_df = build_data_matrix_stage3(test_df)"
   ]
  },
  {
   "cell_type": "code",
   "execution_count": 68,
   "metadata": {},
   "outputs": [
    {
     "name": "stdout",
     "output_type": "stream",
     "text": [
      "Number of features after stage3 : 30\n"
     ]
    }
   ],
   "source": [
    "print(f\"Number of features after stage3 : {train_df.shape[1] - 3}\")"
   ]
  },
  {
   "cell_type": "code",
   "execution_count": 69,
   "metadata": {},
   "outputs": [
    {
     "data": {
      "text/html": [
       "<div>\n",
       "<style scoped>\n",
       "    .dataframe tbody tr th:only-of-type {\n",
       "        vertical-align: middle;\n",
       "    }\n",
       "\n",
       "    .dataframe tbody tr th {\n",
       "        vertical-align: top;\n",
       "    }\n",
       "\n",
       "    .dataframe thead th {\n",
       "        text-align: right;\n",
       "    }\n",
       "</style>\n",
       "<table border=\"1\" class=\"dataframe\">\n",
       "  <thead>\n",
       "    <tr style=\"text-align: right;\">\n",
       "      <th></th>\n",
       "      <th>source</th>\n",
       "      <th>destination</th>\n",
       "      <th>edge_indicator</th>\n",
       "      <th>jaccard_followers</th>\n",
       "      <th>jaccard_followees</th>\n",
       "      <th>cosine_followers</th>\n",
       "      <th>cosine_followees</th>\n",
       "      <th>follows_back</th>\n",
       "      <th>same_scc</th>\n",
       "      <th>same_wcc</th>\n",
       "      <th>...</th>\n",
       "      <th>weight_f3</th>\n",
       "      <th>weight_f4</th>\n",
       "      <th>page_rank_source</th>\n",
       "      <th>page_rank_dest</th>\n",
       "      <th>katz_source</th>\n",
       "      <th>katz_dest</th>\n",
       "      <th>hub_source</th>\n",
       "      <th>hub_dest</th>\n",
       "      <th>auth_source</th>\n",
       "      <th>auth_dest</th>\n",
       "    </tr>\n",
       "  </thead>\n",
       "  <tbody>\n",
       "    <tr>\n",
       "      <th>39049</th>\n",
       "      <td>628174</td>\n",
       "      <td>813764</td>\n",
       "      <td>0</td>\n",
       "      <td>0.0</td>\n",
       "      <td>0.0000</td>\n",
       "      <td>0.0</td>\n",
       "      <td>0.0000</td>\n",
       "      <td>0</td>\n",
       "      <td>0</td>\n",
       "      <td>1</td>\n",
       "      <td>...</td>\n",
       "      <td>2.447214</td>\n",
       "      <td>1.894427</td>\n",
       "      <td>2.445197e-07</td>\n",
       "      <td>2.253640e-07</td>\n",
       "      <td>0.000744</td>\n",
       "      <td>0.000735</td>\n",
       "      <td>3.292557e-17</td>\n",
       "      <td>5.561376e-18</td>\n",
       "      <td>6.820513e-18</td>\n",
       "      <td>0.000000e+00</td>\n",
       "    </tr>\n",
       "    <tr>\n",
       "      <th>27601</th>\n",
       "      <td>1736000</td>\n",
       "      <td>118976</td>\n",
       "      <td>0</td>\n",
       "      <td>0.0</td>\n",
       "      <td>0.0000</td>\n",
       "      <td>0.0</td>\n",
       "      <td>0.0000</td>\n",
       "      <td>0</td>\n",
       "      <td>0</td>\n",
       "      <td>1</td>\n",
       "      <td>...</td>\n",
       "      <td>2.500000</td>\n",
       "      <td>2.000000</td>\n",
       "      <td>4.839489e-07</td>\n",
       "      <td>5.616324e-07</td>\n",
       "      <td>0.000739</td>\n",
       "      <td>0.000748</td>\n",
       "      <td>2.055789e-20</td>\n",
       "      <td>7.660612e-21</td>\n",
       "      <td>1.061153e-19</td>\n",
       "      <td>0.000000e+00</td>\n",
       "    </tr>\n",
       "    <tr>\n",
       "      <th>14747</th>\n",
       "      <td>1342990</td>\n",
       "      <td>998345</td>\n",
       "      <td>1</td>\n",
       "      <td>0.0</td>\n",
       "      <td>0.0000</td>\n",
       "      <td>0.0</td>\n",
       "      <td>0.0000</td>\n",
       "      <td>0</td>\n",
       "      <td>1</td>\n",
       "      <td>1</td>\n",
       "      <td>...</td>\n",
       "      <td>0.469368</td>\n",
       "      <td>0.431644</td>\n",
       "      <td>3.991159e-06</td>\n",
       "      <td>1.704890e-06</td>\n",
       "      <td>0.000907</td>\n",
       "      <td>0.000853</td>\n",
       "      <td>8.543959e-15</td>\n",
       "      <td>3.876832e-13</td>\n",
       "      <td>8.695359e-15</td>\n",
       "      <td>1.882114e-14</td>\n",
       "    </tr>\n",
       "    <tr>\n",
       "      <th>7943</th>\n",
       "      <td>997401</td>\n",
       "      <td>875481</td>\n",
       "      <td>1</td>\n",
       "      <td>0.0</td>\n",
       "      <td>0.0000</td>\n",
       "      <td>0.0</td>\n",
       "      <td>0.0000</td>\n",
       "      <td>1</td>\n",
       "      <td>1</td>\n",
       "      <td>1</td>\n",
       "      <td>...</td>\n",
       "      <td>1.207107</td>\n",
       "      <td>1.353553</td>\n",
       "      <td>4.552738e-07</td>\n",
       "      <td>8.459678e-07</td>\n",
       "      <td>0.000750</td>\n",
       "      <td>0.000754</td>\n",
       "      <td>6.279346e-18</td>\n",
       "      <td>3.165929e-17</td>\n",
       "      <td>3.569346e-16</td>\n",
       "      <td>3.694076e-16</td>\n",
       "    </tr>\n",
       "    <tr>\n",
       "      <th>12769</th>\n",
       "      <td>103174</td>\n",
       "      <td>694319</td>\n",
       "      <td>1</td>\n",
       "      <td>0.0</td>\n",
       "      <td>0.1111</td>\n",
       "      <td>0.0</td>\n",
       "      <td>0.2041</td>\n",
       "      <td>1</td>\n",
       "      <td>1</td>\n",
       "      <td>1</td>\n",
       "      <td>...</td>\n",
       "      <td>1.272392</td>\n",
       "      <td>1.203143</td>\n",
       "      <td>4.727746e-07</td>\n",
       "      <td>2.895682e-07</td>\n",
       "      <td>0.000760</td>\n",
       "      <td>0.000754</td>\n",
       "      <td>5.097587e-16</td>\n",
       "      <td>3.184172e-16</td>\n",
       "      <td>1.170909e-14</td>\n",
       "      <td>4.575561e-17</td>\n",
       "    </tr>\n",
       "  </tbody>\n",
       "</table>\n",
       "<p>5 rows × 33 columns</p>\n",
       "</div>"
      ],
      "text/plain": [
       "        source  destination  edge_indicator  jaccard_followers  \\\n",
       "39049   628174       813764               0                0.0   \n",
       "27601  1736000       118976               0                0.0   \n",
       "14747  1342990       998345               1                0.0   \n",
       "7943    997401       875481               1                0.0   \n",
       "12769   103174       694319               1                0.0   \n",
       "\n",
       "       jaccard_followees  cosine_followers  cosine_followees  follows_back  \\\n",
       "39049             0.0000               0.0            0.0000             0   \n",
       "27601             0.0000               0.0            0.0000             0   \n",
       "14747             0.0000               0.0            0.0000             0   \n",
       "7943              0.0000               0.0            0.0000             1   \n",
       "12769             0.1111               0.0            0.2041             1   \n",
       "\n",
       "       same_scc  same_wcc      ...       weight_f3  weight_f4  \\\n",
       "39049         0         1      ...        2.447214   1.894427   \n",
       "27601         0         1      ...        2.500000   2.000000   \n",
       "14747         1         1      ...        0.469368   0.431644   \n",
       "7943          1         1      ...        1.207107   1.353553   \n",
       "12769         1         1      ...        1.272392   1.203143   \n",
       "\n",
       "       page_rank_source  page_rank_dest  katz_source  katz_dest    hub_source  \\\n",
       "39049      2.445197e-07    2.253640e-07     0.000744   0.000735  3.292557e-17   \n",
       "27601      4.839489e-07    5.616324e-07     0.000739   0.000748  2.055789e-20   \n",
       "14747      3.991159e-06    1.704890e-06     0.000907   0.000853  8.543959e-15   \n",
       "7943       4.552738e-07    8.459678e-07     0.000750   0.000754  6.279346e-18   \n",
       "12769      4.727746e-07    2.895682e-07     0.000760   0.000754  5.097587e-16   \n",
       "\n",
       "           hub_dest   auth_source     auth_dest  \n",
       "39049  5.561376e-18  6.820513e-18  0.000000e+00  \n",
       "27601  7.660612e-21  1.061153e-19  0.000000e+00  \n",
       "14747  3.876832e-13  8.695359e-15  1.882114e-14  \n",
       "7943   3.165929e-17  3.569346e-16  3.694076e-16  \n",
       "12769  3.184172e-16  1.170909e-14  4.575561e-17  \n",
       "\n",
       "[5 rows x 33 columns]"
      ]
     },
     "execution_count": 69,
     "metadata": {},
     "output_type": "execute_result"
    }
   ],
   "source": [
    "test_df.sample(5)"
   ]
  },
  {
   "cell_type": "markdown",
   "metadata": {},
   "source": [
    "## 6.4 SVD Features\n",
    "\n",
    "* Our graph can be represented as an __Adjacency matrix__.\n",
    "    - It's a square shape : (num_nodes * num_nodes)\n",
    "    - An entry of 1 at $A_{ij}$ in the matrix represents the presence of an edge between node_i and node_j.\n",
    "    - 0 represents the absence of an edge.\n",
    "    \n",
    "<img src='http://mathworld.wolfram.com/images/eps-gif/AdjacencyMatrix_1002.gif'>\n",
    "\n",
    "* The above figure represents adjacency matrices for undirected graphs.\n",
    "\n",
    "* We'll decompose the adjacency matrix into (U, S, V) using SVD.\n",
    "\n",
    "* We'll use the top 6 eigen vectors representing the node from U and V.\n",
    "\n",
    "\n",
    "* __A total of24 features will be generated from SVD__\n",
    "    - U_source(6features),\n",
    "    - U_dest(6features),\n",
    "    - V_source(6features),\n",
    "    - V_dest(6features)\n",
    "\n",
    "\n",
    "> * Pic Credits : [wolfram](http://mathworld.wolfram.com/AdjacencyMatrix.html)"
   ]
  },
  {
   "cell_type": "code",
   "execution_count": 70,
   "metadata": {},
   "outputs": [],
   "source": [
    "#dict mapping indices to nodes\n",
    "adjacency_dict = {node : idx for idx, node in enumerate(sorted(train_pos_graph.nodes()))}"
   ]
  },
  {
   "cell_type": "code",
   "execution_count": 71,
   "metadata": {},
   "outputs": [
    {
     "name": "stdout",
     "output_type": "stream",
     "text": [
      "Shape of adjacency matrix : (1780722, 1780722)\n",
      "Type of adjacency matrix : <class 'scipy.sparse.csr.csr_matrix'>\n"
     ]
    },
    {
     "data": {
      "text/plain": [
       "0"
      ]
     },
     "execution_count": 71,
     "metadata": {},
     "output_type": "execute_result"
    }
   ],
   "source": [
    "adjacency_matrix = nx.adjacency_matrix(train_pos_graph, nodelist=list(adjacency_dict.values())).asfptype()\n",
    "print(f\"Shape of adjacency matrix : {adjacency_matrix.get_shape()}\")\n",
    "print(f\"Type of adjacency matrix : {type(adjacency_matrix)}\")\n",
    "\n",
    "#you don't need this from now\n",
    "del train_pos_graph\n",
    "gc.collect()"
   ]
  },
  {
   "cell_type": "code",
   "execution_count": 72,
   "metadata": {},
   "outputs": [
    {
     "name": "stdout",
     "output_type": "stream",
     "text": [
      "shape of left singular matrix (U)  : (1780722, 6)\n",
      "shape of diagonal matrix (S)       : (6,)\n",
      "shape of right singular matrix (U) : (6, 1780722)\n"
     ]
    }
   ],
   "source": [
    "U, S, V = sparse_svd(adjacency_matrix, k=6)\n",
    "\n",
    "print(f\"shape of left singular matrix (U)  : {U.shape}\")\n",
    "print(f\"shape of diagonal matrix (S)       : {S.shape}\")\n",
    "print(f\"shape of right singular matrix (U) : {V.shape}\")"
   ]
  },
  {
   "cell_type": "code",
   "execution_count": 98,
   "metadata": {},
   "outputs": [],
   "source": [
    "def get_svd_vals(node, M, adj_dict=adjacency_dict):\n",
    "    \n",
    "    try:\n",
    "        return M[adj_dict[node]]\n",
    "    except:\n",
    "        return np.zeros(6)"
   ]
  },
  {
   "cell_type": "markdown",
   "metadata": {},
   "source": [
    "__STAGE 4__"
   ]
  },
  {
   "cell_type": "code",
   "execution_count": 104,
   "metadata": {},
   "outputs": [],
   "source": [
    "def build_data_matrix_stage4(df, U=U, V=V):\n",
    "    \n",
    "    df[['svd_us1', 'svd_us2', 'svd_us3', 'svd_us4', 'svd_us5', 'svd_us6']] = \\\n",
    "                                    df.source.apply(lambda x : get_svd_vals(x, U)).apply(pd.Series)\n",
    "    \n",
    "    df[['svd_ud1', 'svd_ud2', 'svd_ud3', 'svd_ud4', 'svd_ud5', 'svd_ud6']] = \\\n",
    "                                    df.destination.apply(lambda x : get_svd_vals(x, U)).apply(pd.Series)\n",
    "    \n",
    "    df[['svd_vs1', 'svd_vs2', 'svd_vs3', 'svd_vs4', 'svd_vs5', 'svd_vs6']] = \\\n",
    "                                    df.source.apply(lambda x : get_svd_vals(x, V.T)).apply(pd.Series)\n",
    "    \n",
    "    df[['svd_vd1', 'svd_vd2', 'svd_vd3', 'svd_vd4', 'svd_vd5', 'svd_vd6']] = \\\n",
    "                                    df.destination.apply(lambda x : get_svd_vals(x, V.T)).apply(pd.Series)\n",
    "    \n",
    "    df['svd_dot_u'] = df.apply(lambda row : np.dot(get_svd_vals(row['source'], U), get_svd_vals(row['destination'], U)), axis=1)\n",
    "    df['svd_dot_v'] = df.apply(lambda row : np.dot(get_svd_vals(row['source'], V.T), get_svd_vals(row['destination'], V.T)), axis=1)\n",
    "                               \n",
    "\n",
    "    return df"
   ]
  },
  {
   "cell_type": "code",
   "execution_count": 105,
   "metadata": {},
   "outputs": [
    {
     "name": "stdout",
     "output_type": "stream",
     "text": [
      "Wall time: 2min 4s\n"
     ]
    }
   ],
   "source": [
    "%%time\n",
    "\n",
    "train_df = build_data_matrix_stage4(train_df)\n",
    "test_df = build_data_matrix_stage4(test_df)"
   ]
  },
  {
   "cell_type": "code",
   "execution_count": 106,
   "metadata": {},
   "outputs": [
    {
     "name": "stdout",
     "output_type": "stream",
     "text": [
      "Number of features after stage4 : 56\n"
     ]
    }
   ],
   "source": [
    "print(f\"Number of features after stage4 : {train_df.shape[1] - 3}\")"
   ]
  },
  {
   "cell_type": "code",
   "execution_count": 107,
   "metadata": {},
   "outputs": [
    {
     "data": {
      "text/html": [
       "<div>\n",
       "<style scoped>\n",
       "    .dataframe tbody tr th:only-of-type {\n",
       "        vertical-align: middle;\n",
       "    }\n",
       "\n",
       "    .dataframe tbody tr th {\n",
       "        vertical-align: top;\n",
       "    }\n",
       "\n",
       "    .dataframe thead th {\n",
       "        text-align: right;\n",
       "    }\n",
       "</style>\n",
       "<table border=\"1\" class=\"dataframe\">\n",
       "  <thead>\n",
       "    <tr style=\"text-align: right;\">\n",
       "      <th></th>\n",
       "      <th>source</th>\n",
       "      <th>destination</th>\n",
       "      <th>edge_indicator</th>\n",
       "      <th>jaccard_followers</th>\n",
       "      <th>jaccard_followees</th>\n",
       "      <th>cosine_followers</th>\n",
       "      <th>cosine_followees</th>\n",
       "      <th>follows_back</th>\n",
       "      <th>same_scc</th>\n",
       "      <th>same_wcc</th>\n",
       "      <th>...</th>\n",
       "      <th>svd_vs5</th>\n",
       "      <th>svd_vs6</th>\n",
       "      <th>svd_vd1</th>\n",
       "      <th>svd_vd2</th>\n",
       "      <th>svd_vd3</th>\n",
       "      <th>svd_vd4</th>\n",
       "      <th>svd_vd5</th>\n",
       "      <th>svd_vd6</th>\n",
       "      <th>svd_dot_u</th>\n",
       "      <th>svd_dot_v</th>\n",
       "    </tr>\n",
       "  </thead>\n",
       "  <tbody>\n",
       "    <tr>\n",
       "      <th>41059</th>\n",
       "      <td>1463415</td>\n",
       "      <td>1826881</td>\n",
       "      <td>0</td>\n",
       "      <td>0.0</td>\n",
       "      <td>0.0</td>\n",
       "      <td>0.0</td>\n",
       "      <td>0.0</td>\n",
       "      <td>0</td>\n",
       "      <td>1</td>\n",
       "      <td>1</td>\n",
       "      <td>...</td>\n",
       "      <td>1.202284e-12</td>\n",
       "      <td>-9.537461e-15</td>\n",
       "      <td>0.000000e+00</td>\n",
       "      <td>0.000000e+00</td>\n",
       "      <td>0.000000e+00</td>\n",
       "      <td>0.000000e+00</td>\n",
       "      <td>0.000000e+00</td>\n",
       "      <td>0.000000e+00</td>\n",
       "      <td>-2.386193e-27</td>\n",
       "      <td>0.000000e+00</td>\n",
       "    </tr>\n",
       "    <tr>\n",
       "      <th>39786</th>\n",
       "      <td>1082079</td>\n",
       "      <td>385065</td>\n",
       "      <td>0</td>\n",
       "      <td>0.0</td>\n",
       "      <td>0.0</td>\n",
       "      <td>0.0</td>\n",
       "      <td>0.0</td>\n",
       "      <td>0</td>\n",
       "      <td>0</td>\n",
       "      <td>1</td>\n",
       "      <td>...</td>\n",
       "      <td>0.000000e+00</td>\n",
       "      <td>0.000000e+00</td>\n",
       "      <td>-2.648636e-14</td>\n",
       "      <td>-1.327009e-13</td>\n",
       "      <td>3.049329e-07</td>\n",
       "      <td>-1.056872e-14</td>\n",
       "      <td>2.291168e-13</td>\n",
       "      <td>-7.397369e-14</td>\n",
       "      <td>1.854848e-19</td>\n",
       "      <td>0.000000e+00</td>\n",
       "    </tr>\n",
       "    <tr>\n",
       "      <th>2444</th>\n",
       "      <td>1679549</td>\n",
       "      <td>360816</td>\n",
       "      <td>1</td>\n",
       "      <td>0.0</td>\n",
       "      <td>0.0</td>\n",
       "      <td>0.0</td>\n",
       "      <td>0.0</td>\n",
       "      <td>1</td>\n",
       "      <td>0</td>\n",
       "      <td>1</td>\n",
       "      <td>...</td>\n",
       "      <td>0.000000e+00</td>\n",
       "      <td>0.000000e+00</td>\n",
       "      <td>-7.690260e-15</td>\n",
       "      <td>-9.489635e-15</td>\n",
       "      <td>1.447888e-09</td>\n",
       "      <td>-3.285758e-15</td>\n",
       "      <td>1.257927e-13</td>\n",
       "      <td>-5.370567e-16</td>\n",
       "      <td>-3.611753e-30</td>\n",
       "      <td>0.000000e+00</td>\n",
       "    </tr>\n",
       "    <tr>\n",
       "      <th>12816</th>\n",
       "      <td>72077</td>\n",
       "      <td>1521464</td>\n",
       "      <td>1</td>\n",
       "      <td>1.0</td>\n",
       "      <td>0.0</td>\n",
       "      <td>1.0</td>\n",
       "      <td>0.0</td>\n",
       "      <td>0</td>\n",
       "      <td>1</td>\n",
       "      <td>1</td>\n",
       "      <td>...</td>\n",
       "      <td>8.795732e-15</td>\n",
       "      <td>-7.238315e-16</td>\n",
       "      <td>-1.591296e-16</td>\n",
       "      <td>-1.309760e-15</td>\n",
       "      <td>2.118414e-14</td>\n",
       "      <td>-2.412886e-16</td>\n",
       "      <td>2.341119e-15</td>\n",
       "      <td>-1.423428e-18</td>\n",
       "      <td>-3.458982e-29</td>\n",
       "      <td>8.504702e-26</td>\n",
       "    </tr>\n",
       "    <tr>\n",
       "      <th>25126</th>\n",
       "      <td>449054</td>\n",
       "      <td>91403</td>\n",
       "      <td>0</td>\n",
       "      <td>0.0</td>\n",
       "      <td>0.0</td>\n",
       "      <td>0.0</td>\n",
       "      <td>0.0</td>\n",
       "      <td>0</td>\n",
       "      <td>0</td>\n",
       "      <td>1</td>\n",
       "      <td>...</td>\n",
       "      <td>9.144413e-16</td>\n",
       "      <td>-2.136290e-18</td>\n",
       "      <td>-2.519816e-14</td>\n",
       "      <td>-4.519128e-13</td>\n",
       "      <td>1.611155e-12</td>\n",
       "      <td>-1.067757e-13</td>\n",
       "      <td>1.682590e-15</td>\n",
       "      <td>-8.164675e-16</td>\n",
       "      <td>9.104525e-25</td>\n",
       "      <td>3.688883e-26</td>\n",
       "    </tr>\n",
       "  </tbody>\n",
       "</table>\n",
       "<p>5 rows × 59 columns</p>\n",
       "</div>"
      ],
      "text/plain": [
       "        source  destination  edge_indicator  jaccard_followers  \\\n",
       "41059  1463415      1826881               0                0.0   \n",
       "39786  1082079       385065               0                0.0   \n",
       "2444   1679549       360816               1                0.0   \n",
       "12816    72077      1521464               1                1.0   \n",
       "25126   449054        91403               0                0.0   \n",
       "\n",
       "       jaccard_followees  cosine_followers  cosine_followees  follows_back  \\\n",
       "41059                0.0               0.0               0.0             0   \n",
       "39786                0.0               0.0               0.0             0   \n",
       "2444                 0.0               0.0               0.0             1   \n",
       "12816                0.0               1.0               0.0             0   \n",
       "25126                0.0               0.0               0.0             0   \n",
       "\n",
       "       same_scc  same_wcc      ...            svd_vs5       svd_vs6  \\\n",
       "41059         1         1      ...       1.202284e-12 -9.537461e-15   \n",
       "39786         0         1      ...       0.000000e+00  0.000000e+00   \n",
       "2444          0         1      ...       0.000000e+00  0.000000e+00   \n",
       "12816         1         1      ...       8.795732e-15 -7.238315e-16   \n",
       "25126         0         1      ...       9.144413e-16 -2.136290e-18   \n",
       "\n",
       "            svd_vd1       svd_vd2       svd_vd3       svd_vd4       svd_vd5  \\\n",
       "41059  0.000000e+00  0.000000e+00  0.000000e+00  0.000000e+00  0.000000e+00   \n",
       "39786 -2.648636e-14 -1.327009e-13  3.049329e-07 -1.056872e-14  2.291168e-13   \n",
       "2444  -7.690260e-15 -9.489635e-15  1.447888e-09 -3.285758e-15  1.257927e-13   \n",
       "12816 -1.591296e-16 -1.309760e-15  2.118414e-14 -2.412886e-16  2.341119e-15   \n",
       "25126 -2.519816e-14 -4.519128e-13  1.611155e-12 -1.067757e-13  1.682590e-15   \n",
       "\n",
       "            svd_vd6     svd_dot_u     svd_dot_v  \n",
       "41059  0.000000e+00 -2.386193e-27  0.000000e+00  \n",
       "39786 -7.397369e-14  1.854848e-19  0.000000e+00  \n",
       "2444  -5.370567e-16 -3.611753e-30  0.000000e+00  \n",
       "12816 -1.423428e-18 -3.458982e-29  8.504702e-26  \n",
       "25126 -8.164675e-16  9.104525e-25  3.688883e-26  \n",
       "\n",
       "[5 rows x 59 columns]"
      ]
     },
     "execution_count": 107,
     "metadata": {},
     "output_type": "execute_result"
    }
   ],
   "source": [
    "test_df.sample(5)"
   ]
  },
  {
   "cell_type": "code",
   "execution_count": 109,
   "metadata": {},
   "outputs": [
    {
     "name": "stdout",
     "output_type": "stream",
     "text": [
      "Saved file at : processed/features/features_train_test.h5\n"
     ]
    }
   ],
   "source": [
    "file_path = 'processed/features/features_train_test.h5'\n",
    "\n",
    "if not os.path.exists(file_path):\n",
    "    hdf_table = HDFStore(file_path)\n",
    "    hdf_table.put('train_df', train_df, format='table', data_columns=True)\n",
    "    hdf_table.put('test_df', test_df, format='table', data_columns=True)\n",
    "    hdf_table.close()\n",
    "    print(f'Saved file at : {file_path}')\n",
    "    \n",
    "else:\n",
    "    print(f'File already exists at : {file_path}')"
   ]
  },
  {
   "cell_type": "markdown",
   "metadata": {},
   "source": [
    "__TOTAL FEATURES BUILT__"
   ]
  },
  {
   "cell_type": "code",
   "execution_count": 110,
   "metadata": {},
   "outputs": [
    {
     "data": {
      "text/plain": [
       "Index(['source', 'destination', 'edge_indicator', 'jaccard_followers',\n",
       "       'jaccard_followees', 'cosine_followers', 'cosine_followees',\n",
       "       'follows_back', 'same_scc', 'same_wcc', 'adar_index', 'spl_coef',\n",
       "       'prefer_attach', 'num_followers_source', 'num_followers_dest',\n",
       "       'num_followees_source', 'num_followees_dest', 'inter_followers',\n",
       "       'inter_followees', 'weight_in', 'weight_out', 'weight_f1', 'weight_f2',\n",
       "       'weight_f3', 'weight_f4', 'page_rank_source', 'page_rank_dest',\n",
       "       'katz_source', 'katz_dest', 'hub_source', 'hub_dest', 'auth_source',\n",
       "       'auth_dest', 'svd_us1', 'svd_us2', 'svd_us3', 'svd_us4', 'svd_us5',\n",
       "       'svd_us6', 'svd_ud1', 'svd_ud2', 'svd_ud3', 'svd_ud4', 'svd_ud5',\n",
       "       'svd_ud6', 'svd_vs1', 'svd_vs2', 'svd_vs3', 'svd_vs4', 'svd_vs5',\n",
       "       'svd_vs6', 'svd_vd1', 'svd_vd2', 'svd_vd3', 'svd_vd4', 'svd_vd5',\n",
       "       'svd_vd6', 'svd_dot_u', 'svd_dot_v'],\n",
       "      dtype='object')"
      ]
     },
     "execution_count": 110,
     "metadata": {},
     "output_type": "execute_result"
    }
   ],
   "source": [
    "train_df.columns"
   ]
  },
  {
   "cell_type": "markdown",
   "metadata": {},
   "source": [
    "__<font color='red'> Please Open the Next Notebook : Part 3</font>__"
   ]
  }
 ],
 "metadata": {
  "kernelspec": {
   "display_name": "Python 3",
   "language": "python",
   "name": "python3"
  },
  "language_info": {
   "codemirror_mode": {
    "name": "ipython",
    "version": 3
   },
   "file_extension": ".py",
   "mimetype": "text/x-python",
   "name": "python",
   "nbconvert_exporter": "python",
   "pygments_lexer": "ipython3",
   "version": "3.6.6"
  }
 },
 "nbformat": 4,
 "nbformat_minor": 2
}
